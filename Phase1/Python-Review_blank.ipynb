{
 "cells": [
  {
   "cell_type": "markdown",
   "metadata": {
    "hide_input": true
   },
   "source": [
    "# Python Review\n",
    "\n",
    "## Learning Objectives\n",
    "\n",
    "The purpose of this notebook is for us to review some of the Python covered in the Pre-Work, including the following: \n",
    "\n",
    "- Assigning variables\n",
    "- Classifying and explaining data types (integers, floats, strings, booleans, lists, dictionaries, and tuples)\n",
    "- Identifying comparators and boolean operators to create conditional code\n",
    "- Making use of lists: indexing, appending, and joining them\n",
    "- Making use of dictionaries: identifying, creating, and navigating them\n",
    "- Moving between lists and dictionaries (zipping lists together to make dictionaries, or pulling relevant data from a dictionary into a list)\n",
    "- Applying for loops to lists and dictionaries\n",
    "\n",
    "Some new things we're bringing up that likely weren't covered in Pre-Work:\n",
    "\n",
    "- Using f-strings or `.format()` to print readable code with variables\n",
    "- Using `.zip()` to combine two lists into a dictionary"
   ]
  },
  {
   "cell_type": "markdown",
   "metadata": {},
   "source": [
    "## To do all that, we are going to code up versions of a bento box:\n",
    "\n",
    "<img src=\"images/bento-box.jpeg\" alt=\"bento box image from https://images.pexels.com/photos/884596/pexels-photo-884596.jpeg\" width=600>\n",
    "\n",
    "\n",
    "### Bento boxes can have multiple ingredients and choices\n",
    "\n",
    "By the end, we want to combine multiple bento orders into one data collection, and print each item for the restaurant. \n",
    "\n",
    "### Variable assignment \n",
    "\n",
    "Let's start with our first bento order:"
   ]
  },
  {
   "cell_type": "code",
   "execution_count": 52,
   "metadata": {},
   "outputs": [],
   "source": [
    "# Run this cell without changes\n",
    "main = \"rice\"\n",
    "protein = \"salmon\"\n",
    "oz_of_protein = 4.5\n",
    "number_of_sides = 3\n",
    "side1 = 'seaweed'\n",
    "side2 = 'onigiri'\n",
    "side3 = 'turnip pickle'\n",
    "great_bento = True\n",
    "drink = \"Mango juice\""
   ]
  },
  {
   "cell_type": "markdown",
   "metadata": {},
   "source": [
    "Now, if we wanted to change our protein to ginger chicken, how would we do that?"
   ]
  },
  {
   "cell_type": "code",
   "execution_count": 3,
   "metadata": {},
   "outputs": [],
   "source": [
    "# Code here to change protein\n",
    "protein = \"ginger chicken\""
   ]
  },
  {
   "cell_type": "markdown",
   "metadata": {},
   "source": [
    "And changing the amount of protein to 3.5?"
   ]
  },
  {
   "cell_type": "code",
   "execution_count": 4,
   "metadata": {},
   "outputs": [],
   "source": [
    "# Code here to change oz_of_protein\n",
    "oz_of_protein = 3.5"
   ]
  },
  {
   "cell_type": "markdown",
   "metadata": {},
   "source": [
    "We can reassign variable values easily.\n",
    "\n",
    "Now, we assigned those variables one at a time. We also can assign multiple values at once:\n",
    "\n",
    "`side1, side2, side3 = \"carrots\", \"kimchi\", \"mushrooms\"`\n",
    "\n",
    "Update your side order to match your preferences - add whatever you want! "
   ]
  },
  {
   "cell_type": "code",
   "execution_count": 5,
   "metadata": {},
   "outputs": [],
   "source": [
    "# Code here to change sides \n",
    "side1, side2, side3 = \"rice\", \"seaweed\", \"pickled onions\""
   ]
  },
  {
   "cell_type": "markdown",
   "metadata": {},
   "source": [
    "Then use `print()` to confirm the variables changed."
   ]
  },
  {
   "cell_type": "code",
   "execution_count": 6,
   "metadata": {},
   "outputs": [
    {
     "name": "stdout",
     "output_type": "stream",
     "text": [
      "ginger chicken 3.5 rice seaweed pickled onions\n"
     ]
    }
   ],
   "source": [
    "# Code here to confirm your changes\n",
    "print(protein, oz_of_protein, side1, side2, side3)"
   ]
  },
  {
   "cell_type": "markdown",
   "metadata": {},
   "source": [
    "### Variable Types\n",
    "\n",
    "Each variable in our bento box has a `type`. "
   ]
  },
  {
   "cell_type": "code",
   "execution_count": 7,
   "metadata": {
    "hide_input": false
   },
   "outputs": [
    {
     "data": {
      "text/plain": [
       "str"
      ]
     },
     "execution_count": 7,
     "metadata": {},
     "output_type": "execute_result"
    }
   ],
   "source": [
    "# Run this cell without changes\n",
    "type(side1)"
   ]
  },
  {
   "cell_type": "markdown",
   "metadata": {},
   "source": [
    "Run `type()` on some of the remaining variables to explore the type options."
   ]
  },
  {
   "cell_type": "code",
   "execution_count": 8,
   "metadata": {},
   "outputs": [
    {
     "data": {
      "text/plain": [
       "float"
      ]
     },
     "execution_count": 8,
     "metadata": {},
     "output_type": "execute_result"
    }
   ],
   "source": [
    "# Code here to check other variable types\n",
    "type(oz_of_protein)"
   ]
  },
  {
   "cell_type": "markdown",
   "metadata": {},
   "source": [
    "Each data type in Python has a set behavior in a lot of ways, and knowing what type your variable is can help you know exactly what you can do with it!"
   ]
  },
  {
   "cell_type": "markdown",
   "metadata": {},
   "source": [
    "### Control Flow Operators, If Statements and Conditionals\n",
    "\n",
    "Now what if you have food allergies, or want to be able to evaluate a variable before changing it for any other reason?\n",
    "\n",
    "Well you're in luck, cause we have control flow operators and if statements and conditionals!\n",
    "\n",
    "Control flow operators include:\n",
    "\n",
    "```python\n",
    "== # Is equal to?\n",
    "!= # Is not equal to? \n",
    ">  # Is greater than?\n",
    "<  # Is less than?\n",
    "<= # Is less than or equal to?\n",
    ">= # Is greater than or equal to?\n",
    "```\n",
    "\n",
    "Note that these **evaluate** something - this is different from setting a variable. With control flow operators like these, you're asking a question: \"Is this equal to that?\" \"Is this greater than that?\" etc!"
   ]
  },
  {
   "cell_type": "markdown",
   "metadata": {},
   "source": [
    "Decision making using these kinds of evaluators/control flow operators works like this:\n",
    "\n",
    "![how conditional works](images/decision_making.jpg)\n",
    "\n",
    "The [tools](https://docs.python.org/3/tutorial/controlflow.html) used in conditionals are `if`, `elif`, and `else`.\n",
    "\n",
    "For example: \n",
    "\n",
    "```python\n",
    "if (protein == 'salmon'):\n",
    "      print(\"I love salmon!\")\n",
    "```\n",
    "\n",
    "Will I like this bento box?"
   ]
  },
  {
   "cell_type": "code",
   "execution_count": 9,
   "metadata": {},
   "outputs": [
    {
     "name": "stdout",
     "output_type": "stream",
     "text": [
      "no carbs, please!\n"
     ]
    }
   ],
   "source": [
    "# Run this cell without changes\n",
    "if (main == 'rice'):\n",
    "    print(\"no carbs, please!\")\n",
    "elif(oz_of_protein >= 2.5):\n",
    "    print(\"too much!\")\n",
    "else:\n",
    "    print(\"I will like this bento box!\")"
   ]
  },
  {
   "cell_type": "markdown",
   "metadata": {},
   "source": [
    "Above, if the main isn't rice and if the amount of protein is less than 2.5, I think I'll like the box!\n",
    "\n",
    "Update the above code example, but rather than `print`, instead set `great_bento` equal to `True` or `False` depending on the values of the bento box ingredients - feel free to customize the checks based on your own personal preferences!"
   ]
  },
  {
   "cell_type": "code",
   "execution_count": 10,
   "metadata": {},
   "outputs": [],
   "source": [
    "# Update the code below, based on your own preferences\n",
    "if (main != 'rice'):\n",
    "    great_bento = False\n",
    "elif(oz_of_protein < 3.5):\n",
    "    great_bento = False\n",
    "else:\n",
    "    great_bento = True"
   ]
  },
  {
   "cell_type": "code",
   "execution_count": 11,
   "metadata": {},
   "outputs": [
    {
     "data": {
      "text/plain": [
       "True"
      ]
     },
     "execution_count": 11,
     "metadata": {},
     "output_type": "execute_result"
    }
   ],
   "source": [
    "# Is great_bento True or False right now?\n",
    "great_bento"
   ]
  },
  {
   "cell_type": "markdown",
   "metadata": {},
   "source": [
    "## Using Lists: indexing, appending, joining"
   ]
  },
  {
   "cell_type": "markdown",
   "metadata": {},
   "source": [
    "![dog-to-do-list gif from giphy](images/todolist-giphy.gif)\n",
    "\n",
    "Writing out all those ingredients individually is a pain, let's put them in a list!\n",
    "\n",
    "(You can retype your ingredient list, or use the variables you assigned above)"
   ]
  },
  {
   "cell_type": "code",
   "execution_count": 51,
   "metadata": {},
   "outputs": [
    {
     "ename": "NameError",
     "evalue": "name 'drink' is not defined",
     "output_type": "error",
     "traceback": [
      "\u001b[1;31m---------------------------------------------------------------------------\u001b[0m",
      "\u001b[1;31mNameError\u001b[0m                                 Traceback (most recent call last)",
      "\u001b[1;32m<ipython-input-51-6a9681cb8c4f>\u001b[0m in \u001b[0;36m<module>\u001b[1;34m\u001b[0m\n\u001b[0;32m      1\u001b[0m \u001b[1;31m# Replace None with relevant code\u001b[0m\u001b[1;33m\u001b[0m\u001b[1;33m\u001b[0m\u001b[1;33m\u001b[0m\u001b[0m\n\u001b[1;32m----> 2\u001b[1;33m \u001b[0mbento_ingredients\u001b[0m \u001b[1;33m=\u001b[0m \u001b[1;33m[\u001b[0m\u001b[0mmain\u001b[0m\u001b[1;33m,\u001b[0m \u001b[0mprotein\u001b[0m\u001b[1;33m,\u001b[0m \u001b[0moz_of_protein\u001b[0m\u001b[1;33m,\u001b[0m \u001b[0mnumber_of_sides\u001b[0m\u001b[1;33m,\u001b[0m \u001b[0mside1\u001b[0m\u001b[1;33m,\u001b[0m \u001b[0mside2\u001b[0m\u001b[1;33m,\u001b[0m \u001b[0mside3\u001b[0m\u001b[1;33m,\u001b[0m \u001b[0mdrink\u001b[0m\u001b[1;33m]\u001b[0m\u001b[1;33m\u001b[0m\u001b[1;33m\u001b[0m\u001b[0m\n\u001b[0m",
      "\u001b[1;31mNameError\u001b[0m: name 'drink' is not defined"
     ]
    }
   ],
   "source": [
    "# Replace None with relevant code\n",
    "bento_ingredients = [main, protein, oz_of_protein, number_of_sides, side1, side2, side3, drink]"
   ]
  },
  {
   "cell_type": "markdown",
   "metadata": {},
   "source": [
    "Lists are ordered, meaning you can access the index number for an element:"
   ]
  },
  {
   "cell_type": "code",
   "execution_count": 14,
   "metadata": {
    "scrolled": true
   },
   "outputs": [
    {
     "data": {
      "text/plain": [
       "'rice'"
      ]
     },
     "execution_count": 14,
     "metadata": {},
     "output_type": "execute_result"
    }
   ],
   "source": [
    "# Run this cell without changes\n",
    "bento_ingredients[4]"
   ]
  },
  {
   "cell_type": "markdown",
   "metadata": {},
   "source": [
    "Or you can grab ranges/slices of a list:"
   ]
  },
  {
   "cell_type": "code",
   "execution_count": 21,
   "metadata": {},
   "outputs": [
    {
     "data": {
      "text/plain": [
       "['rice', 'ginger chicken', 3.5, 3, 'rice', 'seaweed', 'pickled onions']"
      ]
     },
     "execution_count": 21,
     "metadata": {},
     "output_type": "execute_result"
    }
   ],
   "source": [
    "# Run this cell without changes\n",
    "# Note that our 3rd side is the 4th element above, but we use 5 in the range\n",
    "# Play around with these numbers, and start to build some understanding of \n",
    "# which elements are where exactly in the list\n",
    "bento_ingredients[0:7]"
   ]
  },
  {
   "cell_type": "code",
   "execution_count": 22,
   "metadata": {},
   "outputs": [
    {
     "data": {
      "text/plain": [
       "['ginger chicken', 'rice']"
      ]
     },
     "execution_count": 22,
     "metadata": {},
     "output_type": "execute_result"
    }
   ],
   "source": [
    "bento_ingredients[1:7:3]"
   ]
  },
  {
   "cell_type": "code",
   "execution_count": 35,
   "metadata": {
    "scrolled": true
   },
   "outputs": [
    {
     "data": {
      "text/plain": [
       "['rice',\n",
       " 'ginger chicken',\n",
       " 3.5,\n",
       " 3,\n",
       " 'rice',\n",
       " 'seaweed',\n",
       " 'pickled onions',\n",
       " 'mango drink']"
      ]
     },
     "execution_count": 35,
     "metadata": {},
     "output_type": "execute_result"
    }
   ],
   "source": [
    "bento_ingredients +['mango drink']"
   ]
  },
  {
   "cell_type": "markdown",
   "metadata": {},
   "source": [
    "Add items to a list with `.append()` - add something else you like to your order!"
   ]
  },
  {
   "cell_type": "code",
   "execution_count": 39,
   "metadata": {},
   "outputs": [],
   "source": [
    "del bento_ingredients[2]"
   ]
  },
  {
   "cell_type": "code",
   "execution_count": 40,
   "metadata": {},
   "outputs": [
    {
     "data": {
      "text/plain": [
       "['rice', 'ginger chicken', 'rice', 'seaweed', 'pickled onions']"
      ]
     },
     "execution_count": 40,
     "metadata": {},
     "output_type": "execute_result"
    }
   ],
   "source": [
    "bento_ingredients"
   ]
  },
  {
   "cell_type": "code",
   "execution_count": 46,
   "metadata": {},
   "outputs": [
    {
     "data": {
      "text/plain": [
       "'rice, ginger chicken, rice, seaweed, pickled onions'"
      ]
     },
     "execution_count": 46,
     "metadata": {},
     "output_type": "execute_result"
    }
   ],
   "source": [
    "\", \".join(bento_ingredients[:])"
   ]
  },
  {
   "cell_type": "code",
   "execution_count": 25,
   "metadata": {},
   "outputs": [],
   "source": [
    "# Code here to add to your list\n",
    "bento_ingredients.append('mango drink')"
   ]
  },
  {
   "cell_type": "markdown",
   "metadata": {},
   "source": [
    "If you don't want to keep that last item, you can use `.pop()` to remove it."
   ]
  },
  {
   "cell_type": "code",
   "execution_count": 14,
   "metadata": {},
   "outputs": [],
   "source": [
    "# Code here to test that out\n",
    "off_item = bento_ingredients.pop()"
   ]
  },
  {
   "cell_type": "code",
   "execution_count": 15,
   "metadata": {},
   "outputs": [
    {
     "data": {
      "text/plain": [
       "'mango drink'"
      ]
     },
     "execution_count": 15,
     "metadata": {},
     "output_type": "execute_result"
    }
   ],
   "source": [
    "# Now check what your list looks like - is that last item still there?\n",
    "off_item"
   ]
  },
  {
   "cell_type": "markdown",
   "metadata": {},
   "source": [
    "Now, let's put our bento box in a readable format using `join`:"
   ]
  },
  {
   "cell_type": "code",
   "execution_count": 16,
   "metadata": {
    "scrolled": true
   },
   "outputs": [
    {
     "name": "stdout",
     "output_type": "stream",
     "text": [
      "I'd like my bento box to contain: rice, ginger chicken, rice, seaweed, and pickled onions\n"
     ]
    }
   ],
   "source": [
    "# Run this cell without changes\n",
    "print(\"I'd like my bento box to contain: \" +\n",
    "      \", \".join(bento_ingredients[:-1]) + \", and \" + bento_ingredients[-1])"
   ]
  },
  {
   "cell_type": "markdown",
   "metadata": {},
   "source": [
    "**New thing!** F-strings allow you to easily format strings to add variables or elements from an iterable (like a list). You can also use `.format()` in a similar way."
   ]
  },
  {
   "cell_type": "code",
   "execution_count": 47,
   "metadata": {},
   "outputs": [
    {
     "name": "stdout",
     "output_type": "stream",
     "text": [
      "My bento box will include rice and ginger chicken.\n"
     ]
    }
   ],
   "source": [
    "# Run this cell without changes\n",
    "# This is an f-string!\n",
    "print(f\"My bento box will include {bento_ingredients[0]} and {bento_ingredients[1]}.\")"
   ]
  },
  {
   "cell_type": "code",
   "execution_count": 18,
   "metadata": {},
   "outputs": [
    {
     "name": "stdout",
     "output_type": "stream",
     "text": [
      "My bento box will include rice and ginger chicken.\n"
     ]
    }
   ],
   "source": [
    "# The above cell is the same as:\n",
    "print(\"My bento box will include {} and {}.\".format(bento_ingredients[0], bento_ingredients[1]))"
   ]
  },
  {
   "cell_type": "code",
   "execution_count": 48,
   "metadata": {},
   "outputs": [
    {
     "name": "stdout",
     "output_type": "stream",
     "text": [
      "My bento box will include rice and ginger chicken.\n"
     ]
    }
   ],
   "source": [
    "print(\"My bento box will include {0} and {1}.\".format(*bento_ingredients))"
   ]
  },
  {
   "cell_type": "markdown",
   "metadata": {},
   "source": [
    "**Think about it:** How is the f-string/format working differently from the join we did before?\n",
    "\n",
    "- \n"
   ]
  },
  {
   "cell_type": "markdown",
   "metadata": {},
   "source": [
    "## Using Dictionaries: Identifying, Creating, Navigating"
   ]
  },
  {
   "cell_type": "markdown",
   "metadata": {},
   "source": [
    "<img src=\"images/dictionary.jpeg\" alt=\"dictionary image from https://images.pexels.com/photos/270233/pexels-photo-270233.jpeg\" width=600>\n",
    "\n",
    "No, not that kind! \n",
    "\n",
    "With your list above, someone would need to tell you that \"rice\" is the main and \"salmon\" is the protein. \n",
    "\n",
    "Dictionaries let you assign **key** and **value** pairs, which connects a key like \"main\" to a value like \"rice\". Rather than using **indexing**, you use **keys** to return values.\n",
    "\n",
    "Update your bento box to be a dictionary. There are multiple ways to do this! You can type all of your details out, matching to the information we have from the very beginning of this notebook, or you can use your list and a new list of keys to zip your bento box together.\n",
    "\n",
    "> ### TIP: this will be easier you structure your dictionary to have at least a `main` and a `protein`\n",
    "> (Only necessary because of some exercises we'll run later in this notebook!)\n",
    "\n",
    "Make sure to run `type()` on your dictionary to confirm it is successful."
   ]
  },
  {
   "cell_type": "code",
   "execution_count": 49,
   "metadata": {
    "scrolled": true
   },
   "outputs": [
    {
     "name": "stdout",
     "output_type": "stream",
     "text": [
      "{'main': 'rice', 'protein': 'tempura shrimp', 'side': 'miso soup'}\n",
      "<class 'dict'>\n"
     ]
    }
   ],
   "source": [
    "# Here's an example of zipping two lists together to form a dictionary\n",
    "bento_keys = [\"main\", \"protein\", \"side\"]\n",
    "bento_values = [\"rice\", \"tempura shrimp\", \"miso soup\"]\n",
    "\n",
    "bento_dict = dict(zip(bento_keys, bento_values))\n",
    "\n",
    "print(bento_dict)\n",
    "print(type(bento_dict))"
   ]
  },
  {
   "cell_type": "code",
   "execution_count": 1,
   "metadata": {},
   "outputs": [],
   "source": [
    "bento_updated_keys = [\"main\", \"protein\", \"oz_of_protein\", \"side1\", \"side2\", \"side3\", \"drink\"]"
   ]
  },
  {
   "cell_type": "code",
   "execution_count": 2,
   "metadata": {},
   "outputs": [],
   "source": [
    "bento_updated_values = [\"steak\",\"ginger chicken\", \"3\", \"rice\", \"seaweed\", \"pickled onions\", \"mango drink\"]"
   ]
  },
  {
   "cell_type": "code",
   "execution_count": 3,
   "metadata": {},
   "outputs": [],
   "source": [
    "# Code here to create a dictionary from your bento ingredients\n",
    "# Change things up to whatever you like!\n",
    "bento_box = dict(zip(bento_updated_keys, bento_updated_values))"
   ]
  },
  {
   "cell_type": "code",
   "execution_count": 4,
   "metadata": {},
   "outputs": [
    {
     "ename": "NameError",
     "evalue": "name 'bento_ingredients' is not defined",
     "output_type": "error",
     "traceback": [
      "\u001b[1;31m---------------------------------------------------------------------------\u001b[0m",
      "\u001b[1;31mNameError\u001b[0m                                 Traceback (most recent call last)",
      "\u001b[1;32m<ipython-input-4-a5c07e769604>\u001b[0m in \u001b[0;36m<module>\u001b[1;34m\u001b[0m\n\u001b[1;32m----> 1\u001b[1;33m \u001b[0mbento_ingredients\u001b[0m\u001b[1;33m\u001b[0m\u001b[1;33m\u001b[0m\u001b[0m\n\u001b[0m",
      "\u001b[1;31mNameError\u001b[0m: name 'bento_ingredients' is not defined"
     ]
    }
   ],
   "source": [
    "# bento_ingredients"
   ]
  },
  {
   "cell_type": "code",
   "execution_count": 58,
   "metadata": {},
   "outputs": [
    {
     "name": "stdout",
     "output_type": "stream",
     "text": [
      "{'main': 'steak', 'protein': 'ginger chicken', 'oz_of_protein': '3', 'side1': 'rice', 'side2': 'seaweed', 'side3': 'pickled onions', 'drink': 'mango drink'}\n",
      "<class 'dict'>\n"
     ]
    }
   ],
   "source": [
    "# Code here to check your work - check type, and print your dictionary\n",
    "\n",
    "print(bento_dict)\n",
    "print(type(bento_dict))\n"
   ]
  },
  {
   "cell_type": "markdown",
   "metadata": {},
   "source": [
    "You use the key of the dictionary to access its value, for example `bento_box['main']` "
   ]
  },
  {
   "cell_type": "code",
   "execution_count": 6,
   "metadata": {},
   "outputs": [
    {
     "data": {
      "text/plain": [
       "'steak'"
      ]
     },
     "execution_count": 6,
     "metadata": {},
     "output_type": "execute_result"
    }
   ],
   "source": [
    "# Practice accessing elements in your bento box\n",
    "bento_box['main']"
   ]
  },
  {
   "cell_type": "code",
   "execution_count": 5,
   "metadata": {},
   "outputs": [
    {
     "name": "stdout",
     "output_type": "stream",
     "text": [
      "main steak\n",
      "protein ginger chicken\n",
      "oz_of_protein 3\n",
      "side1 rice\n",
      "side2 seaweed\n",
      "side3 pickled onions\n",
      "drink mango drink\n"
     ]
    }
   ],
   "source": [
    "for i, a in bento_box.items():\n",
    "    print(i, a)"
   ]
  },
  {
   "cell_type": "code",
   "execution_count": null,
   "metadata": {},
   "outputs": [],
   "source": []
  },
  {
   "cell_type": "markdown",
   "metadata": {},
   "source": [
    "Let's say we want to combine EVERYONE'S bento dictionaries - we can nest those dictonaries inside of a list!\n",
    "\n",
    "Let's get a few different bento box orders into a group order - use Slack to send your dictionaries to each other (you'll want to send everyone the dictionary output, not the code you wrote if you used zip to create your dictionary). \n",
    "\n",
    "> **Don't forget - this will be easier if all of the dictionaries are structured the same.**\n",
    "\n",
    "Grab at least two other orders and create a list of different dictionaries:"
   ]
  },
  {
   "cell_type": "code",
   "execution_count": 6,
   "metadata": {},
   "outputs": [],
   "source": [
    "bento_combined = []\n",
    "bento_box['main']='steak'\n",
    "bento_combined.append(bento_box)"
   ]
  },
  {
   "cell_type": "code",
   "execution_count": 7,
   "metadata": {},
   "outputs": [],
   "source": [
    "bento_box1 = bento_box.copy()\n",
    "bento_box1['main']='chicken'\n",
    "bento_combined.append(bento_box1)"
   ]
  },
  {
   "cell_type": "code",
   "execution_count": null,
   "metadata": {},
   "outputs": [],
   "source": []
  },
  {
   "cell_type": "code",
   "execution_count": 8,
   "metadata": {},
   "outputs": [],
   "source": [
    "bento_box2 = bento_box.copy()\n",
    "bento_box2['main']='lamb'\n",
    "bento_combined.append(bento_box2)"
   ]
  },
  {
   "cell_type": "code",
   "execution_count": 9,
   "metadata": {},
   "outputs": [
    {
     "data": {
      "text/plain": [
       "[{'main': 'steak',\n",
       "  'protein': 'ginger chicken',\n",
       "  'oz_of_protein': '3',\n",
       "  'side1': 'rice',\n",
       "  'side2': 'seaweed',\n",
       "  'side3': 'pickled onions',\n",
       "  'drink': 'mango drink'},\n",
       " {'main': 'chicken',\n",
       "  'protein': 'ginger chicken',\n",
       "  'oz_of_protein': '3',\n",
       "  'side1': 'rice',\n",
       "  'side2': 'seaweed',\n",
       "  'side3': 'pickled onions',\n",
       "  'drink': 'mango drink'},\n",
       " {'main': 'lamb',\n",
       "  'protein': 'ginger chicken',\n",
       "  'oz_of_protein': '3',\n",
       "  'side1': 'rice',\n",
       "  'side2': 'seaweed',\n",
       "  'side3': 'pickled onions',\n",
       "  'drink': 'mango drink'}]"
      ]
     },
     "execution_count": 9,
     "metadata": {},
     "output_type": "execute_result"
    }
   ],
   "source": [
    "bento_combined"
   ]
  },
  {
   "cell_type": "code",
   "execution_count": null,
   "metadata": {},
   "outputs": [],
   "source": []
  },
  {
   "cell_type": "code",
   "execution_count": null,
   "metadata": {},
   "outputs": [],
   "source": []
  },
  {
   "cell_type": "code",
   "execution_count": 19,
   "metadata": {},
   "outputs": [],
   "source": [
    "bento_combined.append(bento_box)"
   ]
  },
  {
   "cell_type": "code",
   "execution_count": 61,
   "metadata": {},
   "outputs": [],
   "source": [
    "bento_combined[0]['main'] = 'chicken'\n",
    "# bento_combined[1]['main'] = 'steak'\n",
    "# bento_combined[2]['main'] = 'lamb'"
   ]
  },
  {
   "cell_type": "code",
   "execution_count": 65,
   "metadata": {},
   "outputs": [
    {
     "data": {
      "text/plain": [
       "[{'main': 'chicken',\n",
       "  'protein': 'ginger chicken',\n",
       "  'oz_of_protein': '3',\n",
       "  'side1': 'rice',\n",
       "  'side2': 'seaweed',\n",
       "  'side3': 'pickled onions',\n",
       "  'drink': 'mango drink'},\n",
       " {'main': 'chicken',\n",
       "  'protein': 'ginger chicken',\n",
       "  'oz_of_protein': '3',\n",
       "  'side1': 'rice',\n",
       "  'side2': 'seaweed',\n",
       "  'side3': 'pickled onions',\n",
       "  'drink': 'mango drink'},\n",
       " {'main': 'chicken',\n",
       "  'protein': 'ginger chicken',\n",
       "  'oz_of_protein': '3',\n",
       "  'side1': 'rice',\n",
       "  'side2': 'seaweed',\n",
       "  'side3': 'pickled onions',\n",
       "  'drink': 'mango drink'}]"
      ]
     },
     "execution_count": 65,
     "metadata": {},
     "output_type": "execute_result"
    }
   ],
   "source": [
    "bento_combined"
   ]
  },
  {
   "cell_type": "markdown",
   "metadata": {},
   "source": [
    "But what if we also want to keep track of whose order is whose? Instead of doing a list of dictionaries, we can do a nested dictionary of dictionaries! \n",
    "\n",
    "![Dictionaries inside dictionaries meme](images/dictionariesindictionaries.jpeg)\n",
    "\n",
    "Create a dictionary of dictionaries, where the key is the name of the person ordering and the value is their bento dictionary:"
   ]
  },
  {
   "cell_type": "code",
   "execution_count": 10,
   "metadata": {},
   "outputs": [],
   "source": [
    "# dict_of_dict = {}# Code here to create your nested dictionaries\n",
    "# dict_of_dict['Anton']=bento_combined[0]\n",
    "# dict_of_dict['Karen']=bento_combined[1]\n",
    "# dict_of_dict['Natalya']=bento_combined[2]\n",
    "dict_of_dict ={}\n",
    "count = 0\n",
    "for i in bento_combined:\n",
    "    count +=1\n",
    "#     dict_of_dict[f'Name {bento_combined.index(i) + 1}'] = i\n",
    "    \n",
    "    dict_of_dict[f'Name {count}'] = i"
   ]
  },
  {
   "cell_type": "code",
   "execution_count": 11,
   "metadata": {},
   "outputs": [
    {
     "data": {
      "text/plain": [
       "{'Name 1': {'main': 'steak',\n",
       "  'protein': 'ginger chicken',\n",
       "  'oz_of_protein': '3',\n",
       "  'side1': 'rice',\n",
       "  'side2': 'seaweed',\n",
       "  'side3': 'pickled onions',\n",
       "  'drink': 'mango drink'},\n",
       " 'Name 2': {'main': 'chicken',\n",
       "  'protein': 'ginger chicken',\n",
       "  'oz_of_protein': '3',\n",
       "  'side1': 'rice',\n",
       "  'side2': 'seaweed',\n",
       "  'side3': 'pickled onions',\n",
       "  'drink': 'mango drink'},\n",
       " 'Name 3': {'main': 'lamb',\n",
       "  'protein': 'ginger chicken',\n",
       "  'oz_of_protein': '3',\n",
       "  'side1': 'rice',\n",
       "  'side2': 'seaweed',\n",
       "  'side3': 'pickled onions',\n",
       "  'drink': 'mango drink'}}"
      ]
     },
     "execution_count": 11,
     "metadata": {},
     "output_type": "execute_result"
    }
   ],
   "source": [
    "dict_of_dict"
   ]
  },
  {
   "cell_type": "markdown",
   "metadata": {},
   "source": [
    "Now, if we wanted a list of people who ordered bento boxes, we could grab a list of those names by using `.keys()`"
   ]
  },
  {
   "cell_type": "code",
   "execution_count": 12,
   "metadata": {},
   "outputs": [],
   "source": [
    "# Code here to grab a list of who you have orders for\n",
    "Names =list(dict_of_dict.keys())"
   ]
  },
  {
   "cell_type": "code",
   "execution_count": 13,
   "metadata": {
    "scrolled": true
   },
   "outputs": [
    {
     "data": {
      "text/plain": [
       "['Name 1', 'Name 2', 'Name 3']"
      ]
     },
     "execution_count": 13,
     "metadata": {},
     "output_type": "execute_result"
    }
   ],
   "source": [
    "Names"
   ]
  },
  {
   "cell_type": "markdown",
   "metadata": {},
   "source": [
    "## For loops\n",
    "\n",
    "Okay, is anyone confused about for loops? Let's practice.\n",
    "\n",
    "Write a loop to print the main ingredient in everyone's bento order. \n",
    "\n",
    "(This is easier if everyone named an ingredient 'main' in their dictionary, but can be done even if that's not the case - it's just more complicated.)\n",
    "\n",
    "Remember! You have already defined a list of everyone's names from above! You can use that in your for loop if you like."
   ]
  },
  {
   "cell_type": "code",
   "execution_count": 15,
   "metadata": {},
   "outputs": [
    {
     "name": "stdout",
     "output_type": "stream",
     "text": [
      "steak\n",
      "chicken\n",
      "lamb\n"
     ]
    }
   ],
   "source": [
    "# Code here to write a for loop that prints each main\n",
    "for i in dict_of_dict.keys():\n",
    "    print(dict_of_dict[i]['main'])"
   ]
  },
  {
   "cell_type": "markdown",
   "metadata": {},
   "source": [
    "### Bringing everything together!\n",
    "\n",
    "Now, using the names from the nested dictionaries, can we create a list of tuples with each name along with the protein they want? \n",
    "\n",
    "(Again, easier if everyone named an ingredient 'protein' in their dictionary...)\n",
    "\n",
    "([What even is a tuple?](http://openbookproject.net/thinkcs/python/english3e/tuples.html) It's hard to distinguish them from lists, except they use `()` instead of `[]`. The takeaway here is that tuples create a single immutable object when grouping data. If you're having trouble, try to use the linked resource to create your list of tuples below.)"
   ]
  },
  {
   "cell_type": "code",
   "execution_count": 39,
   "metadata": {},
   "outputs": [],
   "source": [
    "# Code here to create a list of tuples for each person and their protein\n",
    "list_of_tups = []\n",
    "for i in dict_of_dict.keys():\n",
    "    list_of_tups.append((i, dict_of_dict[i]['protein'])  )"
   ]
  },
  {
   "cell_type": "code",
   "execution_count": null,
   "metadata": {},
   "outputs": [],
   "source": []
  },
  {
   "cell_type": "code",
   "execution_count": 40,
   "metadata": {},
   "outputs": [
    {
     "data": {
      "text/plain": [
       "[('Name 1', 'ginger chicken'),\n",
       " ('Name 2', 'ginger chicken'),\n",
       " ('Name 3', 'ginger chicken')]"
      ]
     },
     "execution_count": 40,
     "metadata": {},
     "output_type": "execute_result"
    }
   ],
   "source": [
    "# Code here to check your work\n",
    "list_of_tups\n",
    "# Tuple list will look like [('person', 'protein'), ...]\n"
   ]
  },
  {
   "cell_type": "markdown",
   "metadata": {},
   "source": [
    "Now, print each of your orders as readable sentences. \n",
    "\n",
    "You can use `.join()` or f-strings or `.format()` - no wrong way to do it! You may even want to use nested for loops here!"
   ]
  },
  {
   "cell_type": "code",
   "execution_count": 42,
   "metadata": {},
   "outputs": [
    {
     "data": {
      "text/plain": [
       "'Name 1'"
      ]
     },
     "execution_count": 42,
     "metadata": {},
     "output_type": "execute_result"
    }
   ],
   "source": [
    "list_of_tups[0][0]"
   ]
  },
  {
   "cell_type": "code",
   "execution_count": 51,
   "metadata": {
    "scrolled": false
   },
   "outputs": [
    {
     "name": "stdout",
     "output_type": "stream",
     "text": [
      "Name 1 ordered ginger chicken as their protein.\n",
      "Name 2 ordered ginger chicken as their protein.\n",
      "Name 3 ordered ginger chicken as their protein.\n"
     ]
    }
   ],
   "source": [
    "# Code here to print each order as a human-readable sentence\n",
    "for i in range(len(list_of_tups)):\n",
    "    print(f'{list_of_tups[i][0]} ordered {list_of_tups[i][1]} as their protein.')"
   ]
  },
  {
   "cell_type": "markdown",
   "metadata": {},
   "source": [
    "### Reflection:\n",
    "\n",
    "What's a situation where you could use lists and loops to automate a process?\n",
    "\n",
    "- \n"
   ]
  },
  {
   "cell_type": "code",
   "execution_count": null,
   "metadata": {},
   "outputs": [],
   "source": []
  }
 ],
 "metadata": {
  "kernelspec": {
   "display_name": "Python (learn-env)",
   "language": "python",
   "name": "learn-env"
  },
  "language_info": {
   "codemirror_mode": {
    "name": "ipython",
    "version": 3
   },
   "file_extension": ".py",
   "mimetype": "text/x-python",
   "name": "python",
   "nbconvert_exporter": "python",
   "pygments_lexer": "ipython3",
   "version": "3.8.5"
  }
 },
 "nbformat": 4,
 "nbformat_minor": 2
}
